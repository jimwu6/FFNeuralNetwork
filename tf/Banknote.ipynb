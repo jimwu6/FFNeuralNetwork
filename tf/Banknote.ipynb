{
  "nbformat": 4,
  "nbformat_minor": 0,
  "metadata": {
    "colab": {
      "name": "Banknote.ipynb",
      "provenance": [],
      "collapsed_sections": []
    },
    "kernelspec": {
      "name": "python3",
      "display_name": "Python 3"
    }
  },
  "cells": [
    {
      "cell_type": "code",
      "metadata": {
        "id": "qFEQzHBlchcF",
        "colab_type": "code",
        "colab": {}
      },
      "source": [
        "import os, sys\n",
        "\n",
        "import numpy as np\n",
        "import pandas as pd\n",
        "\n",
        "import tensorflow as tf\n",
        "from tensorflow import keras\n",
        "from sklearn.model_selection import train_test_split\n",
        "\n",
        "import matplotlib.pyplot as plt"
      ],
      "execution_count": 0,
      "outputs": []
    },
    {
      "cell_type": "code",
      "metadata": {
        "id": "TNaTtk_Vd4iN",
        "colab_type": "code",
        "colab": {
          "base_uri": "https://localhost:8080/",
          "height": 218
        },
        "outputId": "8aaec254-71bd-4bc0-e044-1d28c6e24f4d"
      },
      "source": [
        "df = pd.read_csv(\"data_banknote.txt\", header=None)\n",
        "df.head()\n",
        "df.info() \n",
        "headers = ['variance', 'skewness', 'curtosis', 'entropy', 'class']\n",
        "df.columns = headers"
      ],
      "execution_count": 2,
      "outputs": [
        {
          "output_type": "stream",
          "text": [
            "<class 'pandas.core.frame.DataFrame'>\n",
            "RangeIndex: 1372 entries, 0 to 1371\n",
            "Data columns (total 5 columns):\n",
            " #   Column  Non-Null Count  Dtype  \n",
            "---  ------  --------------  -----  \n",
            " 0   0       1372 non-null   float64\n",
            " 1   1       1372 non-null   float64\n",
            " 2   2       1372 non-null   float64\n",
            " 3   3       1372 non-null   float64\n",
            " 4   4       1372 non-null   int64  \n",
            "dtypes: float64(4), int64(1)\n",
            "memory usage: 53.7 KB\n"
          ],
          "name": "stdout"
        }
      ]
    },
    {
      "cell_type": "code",
      "metadata": {
        "id": "h6OEcbH4EGkY",
        "colab_type": "code",
        "colab": {
          "base_uri": "https://localhost:8080/",
          "height": 195
        },
        "outputId": "31ae4d6e-d714-4c96-ac3d-13cd59875516"
      },
      "source": [
        "df.head()"
      ],
      "execution_count": 3,
      "outputs": [
        {
          "output_type": "execute_result",
          "data": {
            "text/html": [
              "<div>\n",
              "<style scoped>\n",
              "    .dataframe tbody tr th:only-of-type {\n",
              "        vertical-align: middle;\n",
              "    }\n",
              "\n",
              "    .dataframe tbody tr th {\n",
              "        vertical-align: top;\n",
              "    }\n",
              "\n",
              "    .dataframe thead th {\n",
              "        text-align: right;\n",
              "    }\n",
              "</style>\n",
              "<table border=\"1\" class=\"dataframe\">\n",
              "  <thead>\n",
              "    <tr style=\"text-align: right;\">\n",
              "      <th></th>\n",
              "      <th>variance</th>\n",
              "      <th>skewness</th>\n",
              "      <th>curtosis</th>\n",
              "      <th>entropy</th>\n",
              "      <th>class</th>\n",
              "    </tr>\n",
              "  </thead>\n",
              "  <tbody>\n",
              "    <tr>\n",
              "      <th>0</th>\n",
              "      <td>3.62160</td>\n",
              "      <td>8.6661</td>\n",
              "      <td>-2.8073</td>\n",
              "      <td>-0.44699</td>\n",
              "      <td>0</td>\n",
              "    </tr>\n",
              "    <tr>\n",
              "      <th>1</th>\n",
              "      <td>4.54590</td>\n",
              "      <td>8.1674</td>\n",
              "      <td>-2.4586</td>\n",
              "      <td>-1.46210</td>\n",
              "      <td>0</td>\n",
              "    </tr>\n",
              "    <tr>\n",
              "      <th>2</th>\n",
              "      <td>3.86600</td>\n",
              "      <td>-2.6383</td>\n",
              "      <td>1.9242</td>\n",
              "      <td>0.10645</td>\n",
              "      <td>0</td>\n",
              "    </tr>\n",
              "    <tr>\n",
              "      <th>3</th>\n",
              "      <td>3.45660</td>\n",
              "      <td>9.5228</td>\n",
              "      <td>-4.0112</td>\n",
              "      <td>-3.59440</td>\n",
              "      <td>0</td>\n",
              "    </tr>\n",
              "    <tr>\n",
              "      <th>4</th>\n",
              "      <td>0.32924</td>\n",
              "      <td>-4.4552</td>\n",
              "      <td>4.5718</td>\n",
              "      <td>-0.98880</td>\n",
              "      <td>0</td>\n",
              "    </tr>\n",
              "  </tbody>\n",
              "</table>\n",
              "</div>"
            ],
            "text/plain": [
              "   variance  skewness  curtosis  entropy  class\n",
              "0   3.62160    8.6661   -2.8073 -0.44699      0\n",
              "1   4.54590    8.1674   -2.4586 -1.46210      0\n",
              "2   3.86600   -2.6383    1.9242  0.10645      0\n",
              "3   3.45660    9.5228   -4.0112 -3.59440      0\n",
              "4   0.32924   -4.4552    4.5718 -0.98880      0"
            ]
          },
          "metadata": {
            "tags": []
          },
          "execution_count": 3
        }
      ]
    },
    {
      "cell_type": "code",
      "metadata": {
        "id": "ZdpJKvCanC9J",
        "colab_type": "code",
        "colab": {}
      },
      "source": [
        "df0 = df[df['class'] == 0]\n",
        "df1 = df[df['class'] == 1]\n",
        "x0, test0 = train_test_split(df0, test_size=0.2, random_state=2)\n",
        "x1, test1 = train_test_split(df1, test_size=0.2, random_state=2)"
      ],
      "execution_count": 0,
      "outputs": []
    },
    {
      "cell_type": "code",
      "metadata": {
        "id": "fBduozsfp3BB",
        "colab_type": "code",
        "outputId": "a154a12e-e830-41fa-e28b-b6e3d4ec144a",
        "colab": {
          "base_uri": "https://localhost:8080/",
          "height": 195
        }
      },
      "source": [
        "x0.head()"
      ],
      "execution_count": 11,
      "outputs": [
        {
          "output_type": "execute_result",
          "data": {
            "text/html": [
              "<div>\n",
              "<style scoped>\n",
              "    .dataframe tbody tr th:only-of-type {\n",
              "        vertical-align: middle;\n",
              "    }\n",
              "\n",
              "    .dataframe tbody tr th {\n",
              "        vertical-align: top;\n",
              "    }\n",
              "\n",
              "    .dataframe thead th {\n",
              "        text-align: right;\n",
              "    }\n",
              "</style>\n",
              "<table border=\"1\" class=\"dataframe\">\n",
              "  <thead>\n",
              "    <tr style=\"text-align: right;\">\n",
              "      <th></th>\n",
              "      <th>variance</th>\n",
              "      <th>skewness</th>\n",
              "      <th>curtosis</th>\n",
              "      <th>entropy</th>\n",
              "      <th>class</th>\n",
              "    </tr>\n",
              "  </thead>\n",
              "  <tbody>\n",
              "    <tr>\n",
              "      <th>327</th>\n",
              "      <td>4.21640</td>\n",
              "      <td>9.4607</td>\n",
              "      <td>-4.9288</td>\n",
              "      <td>-5.236600</td>\n",
              "      <td>0</td>\n",
              "    </tr>\n",
              "    <tr>\n",
              "      <th>484</th>\n",
              "      <td>4.74320</td>\n",
              "      <td>2.1086</td>\n",
              "      <td>0.1368</td>\n",
              "      <td>1.654300</td>\n",
              "      <td>0</td>\n",
              "    </tr>\n",
              "    <tr>\n",
              "      <th>445</th>\n",
              "      <td>3.18870</td>\n",
              "      <td>-3.4143</td>\n",
              "      <td>2.7742</td>\n",
              "      <td>-0.202600</td>\n",
              "      <td>0</td>\n",
              "    </tr>\n",
              "    <tr>\n",
              "      <th>558</th>\n",
              "      <td>4.38460</td>\n",
              "      <td>-4.8794</td>\n",
              "      <td>3.3662</td>\n",
              "      <td>-0.029324</td>\n",
              "      <td>0</td>\n",
              "    </tr>\n",
              "    <tr>\n",
              "      <th>182</th>\n",
              "      <td>-0.69572</td>\n",
              "      <td>8.6165</td>\n",
              "      <td>1.8419</td>\n",
              "      <td>-4.328900</td>\n",
              "      <td>0</td>\n",
              "    </tr>\n",
              "  </tbody>\n",
              "</table>\n",
              "</div>"
            ],
            "text/plain": [
              "     variance  skewness  curtosis   entropy  class\n",
              "327   4.21640    9.4607   -4.9288 -5.236600      0\n",
              "484   4.74320    2.1086    0.1368  1.654300      0\n",
              "445   3.18870   -3.4143    2.7742 -0.202600      0\n",
              "558   4.38460   -4.8794    3.3662 -0.029324      0\n",
              "182  -0.69572    8.6165    1.8419 -4.328900      0"
            ]
          },
          "metadata": {
            "tags": []
          },
          "execution_count": 11
        }
      ]
    },
    {
      "cell_type": "code",
      "metadata": {
        "id": "YXsksrS-p6P7",
        "colab_type": "code",
        "colab": {}
      },
      "source": [
        "train = x0.append(x1)\n",
        "test_set = test0.append(test1)\n",
        "train.sample(frac=1)\n",
        "train = train.reset_index(drop=True)\n",
        "test_set = test_set.reset_index(drop=True)\n",
        "\n",
        "train_labels = train.pop('class')\n",
        "test_labels  = test_set.pop('class')"
      ],
      "execution_count": 0,
      "outputs": []
    },
    {
      "cell_type": "code",
      "metadata": {
        "id": "7YdS389wqSlJ",
        "colab_type": "code",
        "outputId": "031496f4-53a7-457c-dce7-493fb1767083",
        "colab": {
          "base_uri": "https://localhost:8080/",
          "height": 195
        }
      },
      "source": [
        "test_set.head()"
      ],
      "execution_count": 13,
      "outputs": [
        {
          "output_type": "execute_result",
          "data": {
            "text/html": [
              "<div>\n",
              "<style scoped>\n",
              "    .dataframe tbody tr th:only-of-type {\n",
              "        vertical-align: middle;\n",
              "    }\n",
              "\n",
              "    .dataframe tbody tr th {\n",
              "        vertical-align: top;\n",
              "    }\n",
              "\n",
              "    .dataframe thead th {\n",
              "        text-align: right;\n",
              "    }\n",
              "</style>\n",
              "<table border=\"1\" class=\"dataframe\">\n",
              "  <thead>\n",
              "    <tr style=\"text-align: right;\">\n",
              "      <th></th>\n",
              "      <th>variance</th>\n",
              "      <th>skewness</th>\n",
              "      <th>curtosis</th>\n",
              "      <th>entropy</th>\n",
              "    </tr>\n",
              "  </thead>\n",
              "  <tbody>\n",
              "    <tr>\n",
              "      <th>0</th>\n",
              "      <td>2.97420</td>\n",
              "      <td>8.96000</td>\n",
              "      <td>-2.90240</td>\n",
              "      <td>-1.037900</td>\n",
              "    </tr>\n",
              "    <tr>\n",
              "      <th>1</th>\n",
              "      <td>-0.10648</td>\n",
              "      <td>-0.76771</td>\n",
              "      <td>7.75750</td>\n",
              "      <td>0.641790</td>\n",
              "    </tr>\n",
              "    <tr>\n",
              "      <th>2</th>\n",
              "      <td>2.97360</td>\n",
              "      <td>8.79440</td>\n",
              "      <td>-3.63590</td>\n",
              "      <td>-1.375400</td>\n",
              "    </tr>\n",
              "    <tr>\n",
              "      <th>3</th>\n",
              "      <td>5.85190</td>\n",
              "      <td>5.39050</td>\n",
              "      <td>-2.40370</td>\n",
              "      <td>-0.061652</td>\n",
              "    </tr>\n",
              "    <tr>\n",
              "      <th>4</th>\n",
              "      <td>1.00090</td>\n",
              "      <td>7.78460</td>\n",
              "      <td>-0.28219</td>\n",
              "      <td>-2.660800</td>\n",
              "    </tr>\n",
              "  </tbody>\n",
              "</table>\n",
              "</div>"
            ],
            "text/plain": [
              "   variance  skewness  curtosis   entropy\n",
              "0   2.97420   8.96000  -2.90240 -1.037900\n",
              "1  -0.10648  -0.76771   7.75750  0.641790\n",
              "2   2.97360   8.79440  -3.63590 -1.375400\n",
              "3   5.85190   5.39050  -2.40370 -0.061652\n",
              "4   1.00090   7.78460  -0.28219 -2.660800"
            ]
          },
          "metadata": {
            "tags": []
          },
          "execution_count": 13
        }
      ]
    },
    {
      "cell_type": "code",
      "metadata": {
        "id": "xjX3-HGwqUq4",
        "colab_type": "code",
        "colab": {}
      },
      "source": [
        "train_stats = train.describe().transpose()"
      ],
      "execution_count": 0,
      "outputs": []
    },
    {
      "cell_type": "code",
      "metadata": {
        "id": "qSiqsQ77q0-v",
        "colab_type": "code",
        "outputId": "09b9d6ab-22ad-4394-bf1e-3cf125ae6306",
        "colab": {
          "base_uri": "https://localhost:8080/",
          "height": 166
        }
      },
      "source": [
        "train_stats"
      ],
      "execution_count": 15,
      "outputs": [
        {
          "output_type": "execute_result",
          "data": {
            "text/html": [
              "<div>\n",
              "<style scoped>\n",
              "    .dataframe tbody tr th:only-of-type {\n",
              "        vertical-align: middle;\n",
              "    }\n",
              "\n",
              "    .dataframe tbody tr th {\n",
              "        vertical-align: top;\n",
              "    }\n",
              "\n",
              "    .dataframe thead th {\n",
              "        text-align: right;\n",
              "    }\n",
              "</style>\n",
              "<table border=\"1\" class=\"dataframe\">\n",
              "  <thead>\n",
              "    <tr style=\"text-align: right;\">\n",
              "      <th></th>\n",
              "      <th>count</th>\n",
              "      <th>mean</th>\n",
              "      <th>std</th>\n",
              "      <th>min</th>\n",
              "      <th>25%</th>\n",
              "      <th>50%</th>\n",
              "      <th>75%</th>\n",
              "      <th>max</th>\n",
              "    </tr>\n",
              "  </thead>\n",
              "  <tbody>\n",
              "    <tr>\n",
              "      <th>variance</th>\n",
              "      <td>1097.0</td>\n",
              "      <td>0.444197</td>\n",
              "      <td>2.848433</td>\n",
              "      <td>-7.0421</td>\n",
              "      <td>-1.7490</td>\n",
              "      <td>0.54777</td>\n",
              "      <td>2.80840</td>\n",
              "      <td>6.8248</td>\n",
              "    </tr>\n",
              "    <tr>\n",
              "      <th>skewness</th>\n",
              "      <td>1097.0</td>\n",
              "      <td>1.914015</td>\n",
              "      <td>5.837236</td>\n",
              "      <td>-13.6779</td>\n",
              "      <td>-1.7051</td>\n",
              "      <td>2.40660</td>\n",
              "      <td>6.79340</td>\n",
              "      <td>12.9516</td>\n",
              "    </tr>\n",
              "    <tr>\n",
              "      <th>curtosis</th>\n",
              "      <td>1097.0</td>\n",
              "      <td>1.367067</td>\n",
              "      <td>4.278036</td>\n",
              "      <td>-5.2861</td>\n",
              "      <td>-1.5195</td>\n",
              "      <td>0.57551</td>\n",
              "      <td>3.08950</td>\n",
              "      <td>17.6772</td>\n",
              "    </tr>\n",
              "    <tr>\n",
              "      <th>entropy</th>\n",
              "      <td>1097.0</td>\n",
              "      <td>-1.182465</td>\n",
              "      <td>2.086060</td>\n",
              "      <td>-7.7853</td>\n",
              "      <td>-2.4099</td>\n",
              "      <td>-0.57760</td>\n",
              "      <td>0.38576</td>\n",
              "      <td>2.4495</td>\n",
              "    </tr>\n",
              "  </tbody>\n",
              "</table>\n",
              "</div>"
            ],
            "text/plain": [
              "           count      mean       std  ...      50%      75%      max\n",
              "variance  1097.0  0.444197  2.848433  ...  0.54777  2.80840   6.8248\n",
              "skewness  1097.0  1.914015  5.837236  ...  2.40660  6.79340  12.9516\n",
              "curtosis  1097.0  1.367067  4.278036  ...  0.57551  3.08950  17.6772\n",
              "entropy   1097.0 -1.182465  2.086060  ... -0.57760  0.38576   2.4495\n",
              "\n",
              "[4 rows x 8 columns]"
            ]
          },
          "metadata": {
            "tags": []
          },
          "execution_count": 15
        }
      ]
    },
    {
      "cell_type": "code",
      "metadata": {
        "id": "GTS2ne3rq1mL",
        "colab_type": "code",
        "colab": {}
      },
      "source": [
        "def norm(x):\n",
        "  return (x - train_stats['mean']) / train_stats['std']\n",
        "train_dataset = norm(train)\n",
        "test_dataset = norm(test_set)"
      ],
      "execution_count": 0,
      "outputs": []
    },
    {
      "cell_type": "code",
      "metadata": {
        "id": "YY_jOZfNyBGp",
        "colab_type": "code",
        "outputId": "896f47b7-8c9a-4984-96a6-25aad9f81a9b",
        "colab": {
          "base_uri": "https://localhost:8080/",
          "height": 284
        }
      },
      "source": [
        "train_dataset.describe()"
      ],
      "execution_count": 17,
      "outputs": [
        {
          "output_type": "execute_result",
          "data": {
            "text/html": [
              "<div>\n",
              "<style scoped>\n",
              "    .dataframe tbody tr th:only-of-type {\n",
              "        vertical-align: middle;\n",
              "    }\n",
              "\n",
              "    .dataframe tbody tr th {\n",
              "        vertical-align: top;\n",
              "    }\n",
              "\n",
              "    .dataframe thead th {\n",
              "        text-align: right;\n",
              "    }\n",
              "</style>\n",
              "<table border=\"1\" class=\"dataframe\">\n",
              "  <thead>\n",
              "    <tr style=\"text-align: right;\">\n",
              "      <th></th>\n",
              "      <th>variance</th>\n",
              "      <th>skewness</th>\n",
              "      <th>curtosis</th>\n",
              "      <th>entropy</th>\n",
              "    </tr>\n",
              "  </thead>\n",
              "  <tbody>\n",
              "    <tr>\n",
              "      <th>count</th>\n",
              "      <td>1.097000e+03</td>\n",
              "      <td>1.097000e+03</td>\n",
              "      <td>1.097000e+03</td>\n",
              "      <td>1.097000e+03</td>\n",
              "    </tr>\n",
              "    <tr>\n",
              "      <th>mean</th>\n",
              "      <td>7.598500e-16</td>\n",
              "      <td>6.082443e-17</td>\n",
              "      <td>-2.160735e-16</td>\n",
              "      <td>4.979305e-17</td>\n",
              "    </tr>\n",
              "    <tr>\n",
              "      <th>std</th>\n",
              "      <td>1.000000e+00</td>\n",
              "      <td>1.000000e+00</td>\n",
              "      <td>1.000000e+00</td>\n",
              "      <td>1.000000e+00</td>\n",
              "    </tr>\n",
              "    <tr>\n",
              "      <th>min</th>\n",
              "      <td>-2.628216e+00</td>\n",
              "      <td>-2.671113e+00</td>\n",
              "      <td>-1.555192e+00</td>\n",
              "      <td>-3.165218e+00</td>\n",
              "    </tr>\n",
              "    <tr>\n",
              "      <th>25%</th>\n",
              "      <td>-7.699660e-01</td>\n",
              "      <td>-6.200050e-01</td>\n",
              "      <td>-6.747410e-01</td>\n",
              "      <td>-5.883985e-01</td>\n",
              "    </tr>\n",
              "    <tr>\n",
              "      <th>50%</th>\n",
              "      <td>3.636152e-02</td>\n",
              "      <td>8.438665e-02</td>\n",
              "      <td>-1.850280e-01</td>\n",
              "      <td>2.899559e-01</td>\n",
              "    </tr>\n",
              "    <tr>\n",
              "      <th>75%</th>\n",
              "      <td>8.300013e-01</td>\n",
              "      <td>8.359067e-01</td>\n",
              "      <td>4.026224e-01</td>\n",
              "      <td>7.517643e-01</td>\n",
              "    </tr>\n",
              "    <tr>\n",
              "      <th>max</th>\n",
              "      <td>2.240040e+00</td>\n",
              "      <td>1.890892e+00</td>\n",
              "      <td>3.812528e+00</td>\n",
              "      <td>1.741065e+00</td>\n",
              "    </tr>\n",
              "  </tbody>\n",
              "</table>\n",
              "</div>"
            ],
            "text/plain": [
              "           variance      skewness      curtosis       entropy\n",
              "count  1.097000e+03  1.097000e+03  1.097000e+03  1.097000e+03\n",
              "mean   7.598500e-16  6.082443e-17 -2.160735e-16  4.979305e-17\n",
              "std    1.000000e+00  1.000000e+00  1.000000e+00  1.000000e+00\n",
              "min   -2.628216e+00 -2.671113e+00 -1.555192e+00 -3.165218e+00\n",
              "25%   -7.699660e-01 -6.200050e-01 -6.747410e-01 -5.883985e-01\n",
              "50%    3.636152e-02  8.438665e-02 -1.850280e-01  2.899559e-01\n",
              "75%    8.300013e-01  8.359067e-01  4.026224e-01  7.517643e-01\n",
              "max    2.240040e+00  1.890892e+00  3.812528e+00  1.741065e+00"
            ]
          },
          "metadata": {
            "tags": []
          },
          "execution_count": 17
        }
      ]
    },
    {
      "cell_type": "code",
      "metadata": {
        "id": "ZSB80fDwrQwQ",
        "colab_type": "code",
        "colab": {
          "base_uri": "https://localhost:8080/",
          "height": 252
        },
        "outputId": "35bfa089-7a8c-44e4-e0ea-d4b73879f0e8"
      },
      "source": [
        "model = keras.Sequential([\n",
        "  keras.layers.Dense(64, activation = 'relu', input_shape = [4]),\n",
        "  keras.layers.Dense(64, activation = 'relu'),\n",
        "  keras.layers.Dense(2)            \n",
        "])\n",
        "\n",
        "optimizer = tf.keras.optimizers.Adam()\n",
        "\n",
        "model.compile(optimizer=optimizer, loss=tf.keras.losses.SparseCategoricalCrossentropy(from_logits=True), metrics=['accuracy', 'mae', 'mse'])\n",
        "\n",
        "model.summary()"
      ],
      "execution_count": 18,
      "outputs": [
        {
          "output_type": "stream",
          "text": [
            "Model: \"sequential\"\n",
            "_________________________________________________________________\n",
            "Layer (type)                 Output Shape              Param #   \n",
            "=================================================================\n",
            "dense (Dense)                (None, 64)                320       \n",
            "_________________________________________________________________\n",
            "dense_1 (Dense)              (None, 64)                4160      \n",
            "_________________________________________________________________\n",
            "dense_2 (Dense)              (None, 2)                 130       \n",
            "=================================================================\n",
            "Total params: 4,610\n",
            "Trainable params: 4,610\n",
            "Non-trainable params: 0\n",
            "_________________________________________________________________\n"
          ],
          "name": "stdout"
        }
      ]
    },
    {
      "cell_type": "code",
      "metadata": {
        "id": "nHNcImF7w2m7",
        "colab_type": "code",
        "outputId": "7186e079-0b4a-44b7-e49e-8971b156b2ad",
        "colab": {
          "base_uri": "https://localhost:8080/",
          "height": 185
        }
      },
      "source": [
        "example_batch = train_dataset[:10]\n",
        "example_result = model.predict(example_batch)\n",
        "example_result"
      ],
      "execution_count": 19,
      "outputs": [
        {
          "output_type": "execute_result",
          "data": {
            "text/plain": [
              "array([[-0.46344775, -0.26584888],\n",
              "       [-0.13924064,  0.20597783],\n",
              "       [-0.14219353,  0.07488693],\n",
              "       [-0.19982329,  0.08675601],\n",
              "       [-0.37786794, -0.05837184],\n",
              "       [-0.36394665,  0.06990317],\n",
              "       [-0.08532093,  0.07671492],\n",
              "       [-0.11517344, -0.07453616],\n",
              "       [-0.01223138,  0.03156818],\n",
              "       [-0.09415816,  0.12570776]], dtype=float32)"
            ]
          },
          "metadata": {
            "tags": []
          },
          "execution_count": 19
        }
      ]
    },
    {
      "cell_type": "code",
      "metadata": {
        "id": "gzxdaZ42x1ie",
        "colab_type": "code",
        "colab": {}
      },
      "source": [
        "EPOCHS = 250\n",
        "\n",
        "history = model.fit(\n",
        "    train_dataset, train_labels, epochs=EPOCHS, validation_split = 0.2, verbose = 1\n",
        ")"
      ],
      "execution_count": 0,
      "outputs": []
    },
    {
      "cell_type": "code",
      "metadata": {
        "id": "jpA4RP5izjiE",
        "colab_type": "code",
        "outputId": "2d4a2c6b-cb5f-47fa-bf6b-31a845c29535",
        "colab": {
          "base_uri": "https://localhost:8080/",
          "height": 516
        }
      },
      "source": [
        "# make plots\n",
        "acc = history.history['accuracy']\n",
        "val_acc = history.history['val_accuracy']\n",
        "\n",
        "loss = history.history['loss']\n",
        "val_loss = history.history['val_loss']\n",
        "epochs_range = range(EPOCHS)\n",
        "\n",
        "plt.figure(figsize=(8, 8))\n",
        "plt.subplot(1, 2, 1)\n",
        "plt.plot(epochs_range, acc, label='accuracy')\n",
        "plt.plot(epochs_range, val_acc, label='validation accracy')\n",
        "plt.legend(loc='lower right')\n",
        "plt.title('Accuracy')\n",
        "\n",
        "plt.subplot(1, 2, 2)\n",
        "plt.plot(epochs_range, loss, label='loss')\n",
        "plt.plot(epochs_range, val_loss, label='validation loss')\n",
        "plt.legend(loc='lower right')\n",
        "plt.title('Loss')"
      ],
      "execution_count": 22,
      "outputs": [
        {
          "output_type": "execute_result",
          "data": {
            "text/plain": [
              "Text(0.5, 1.0, 'Loss')"
            ]
          },
          "metadata": {
            "tags": []
          },
          "execution_count": 22
        },
        {
          "output_type": "display_data",
          "data": {
            "image/png": "[encoded data removed]",
            "text/plain": [
              "<Figure size 576x576 with 2 Axes>"
            ]
          },
          "metadata": {
            "tags": [],
            "needs_background": "light"
          }
        }
      ]
    },
    {
      "cell_type": "code",
      "metadata": {
        "id": "imHqmFsh0CUF",
        "colab_type": "code",
        "colab": {}
      },
      "source": [
        "preds = model.predict(test_dataset)"
      ],
      "execution_count": 0,
      "outputs": []
    },
    {
      "cell_type": "code",
      "metadata": {
        "id": "u2cX9t9M3pts",
        "colab_type": "code",
        "colab": {}
      },
      "source": [
        "predict_labels = []"
      ],
      "execution_count": 0,
      "outputs": []
    },
    {
      "cell_type": "code",
      "metadata": {
        "id": "8BI1sXCq33K2",
        "colab_type": "code",
        "colab": {}
      },
      "source": [
        "for i in range(len(preds)):\n",
        "  predict_labels.append(np.argmax(preds[i]))"
      ],
      "execution_count": 0,
      "outputs": []
    },
    {
      "cell_type": "code",
      "metadata": {
        "id": "HmRn8QG04ySR",
        "colab_type": "code",
        "colab": {}
      },
      "source": [
        "goodcnt = 0\n",
        "badcnt = 0\n",
        "for i in range(len(predict_labels)):\n",
        "  if predict_labels[i] == test_labels[i]:\n",
        "    goodcnt += 1\n",
        "  else:\n",
        "    badcnt += 1"
      ],
      "execution_count": 0,
      "outputs": []
    },
    {
      "cell_type": "code",
      "metadata": {
        "id": "QDqJo4hT7ncU",
        "colab_type": "code",
        "outputId": "be7477a8-30d6-470d-db8e-24bb358a5423",
        "colab": {
          "base_uri": "https://localhost:8080/",
          "height": 34
        }
      },
      "source": [
        "goodcnt"
      ],
      "execution_count": 28,
      "outputs": [
        {
          "output_type": "execute_result",
          "data": {
            "text/plain": [
              "275"
            ]
          },
          "metadata": {
            "tags": []
          },
          "execution_count": 28
        }
      ]
    },
    {
      "cell_type": "code",
      "metadata": {
        "id": "y-lyZsI2DmlF",
        "colab_type": "code",
        "outputId": "8a9eb8e3-f540-416e-b660-56c880250ff1",
        "colab": {
          "base_uri": "https://localhost:8080/",
          "height": 34
        }
      },
      "source": [
        "badcnt"
      ],
      "execution_count": 29,
      "outputs": [
        {
          "output_type": "execute_result",
          "data": {
            "text/plain": [
              "0"
            ]
          },
          "metadata": {
            "tags": []
          },
          "execution_count": 29
        }
      ]
    },
    {
      "cell_type": "code",
      "metadata": {
        "id": "zYv8dyzJDnEJ",
        "colab_type": "code",
        "colab": {}
      },
      "source": [
        ""
      ],
      "execution_count": 0,
      "outputs": []
    }
  ]
}